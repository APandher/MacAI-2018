{
 "cells": [
  {
   "cell_type": "markdown",
   "metadata": {},
   "source": [
    "# General Imports\n",
    "We need tensorflow, obviously, to learn things.\n",
    "\n",
    "But these are also handy:\n",
    "matplotlib (graph progress to see if you're training)\n",
    "numpy (works well with the matrices)"
   ]
  },
  {
   "cell_type": "code",
   "execution_count": 1,
   "metadata": {},
   "outputs": [],
   "source": [
    "import tensorflow as tf         \n",
    "import matplotlib.pyplot as plt \n",
    "import numpy as np              \n",
    "from random import sample "
   ]
  },
  {
   "cell_type": "markdown",
   "metadata": {},
   "source": [
    "# Importing MNIST\n",
    "MNIST is a labelled dataset of handwritten characters. We're going to classify them. It has a special datatype. Don't worry about this bit, just copy-paste and we can get on to actually learning!\n",
    "Also, use the paths to the MNIST files you downloaded. If you didn't download them, you can using a function or off their website."
   ]
  },
  {
   "cell_type": "code",
   "execution_count": 2,
   "metadata": {},
   "outputs": [
    {
     "name": "stdout",
     "output_type": "stream",
     "text": [
      "WARNING:tensorflow:From <ipython-input-2-a5751eb7f561>:4: extract_images (from tensorflow.contrib.learn.python.learn.datasets.mnist) is deprecated and will be removed in a future version.\n",
      "Instructions for updating:\n",
      "Please use tf.data to implement this functionality.\n",
      "Extracting train/train-images-idx3-ubyte.gz\n",
      "WARNING:tensorflow:From <ipython-input-2-a5751eb7f561>:7: extract_labels (from tensorflow.contrib.learn.python.learn.datasets.mnist) is deprecated and will be removed in a future version.\n",
      "Instructions for updating:\n",
      "Please use tf.data to implement this functionality.\n",
      "Extracting train/train-labels-idx1-ubyte.gz\n",
      "Extracting test/t10k-images-idx3-ubyte.gz\n",
      "Extracting test/t10k-labels-idx1-ubyte.gz\n"
     ]
    }
   ],
   "source": [
    "from tensorflow.contrib.learn.python.learn.datasets.mnist import extract_images, extract_labels\n",
    "\n",
    "with open('train/train-images-idx3-ubyte.gz', 'rb') as _:\n",
    "    train_images = extract_images(_)\n",
    "\n",
    "with open('train/train-labels-idx1-ubyte.gz', 'rb') as _:\n",
    "    train_labels = extract_labels(_)\n",
    "\n",
    "with open('test/t10k-images-idx3-ubyte.gz', 'rb') as _:\n",
    "    test_images = extract_images(_)\n",
    "\n",
    "with open('test/t10k-labels-idx1-ubyte.gz', 'rb') as _:\n",
    "    test_labels = extract_labels(_)"
   ]
  },
  {
   "cell_type": "markdown",
   "metadata": {},
   "source": [
    "# Determining Data Shape\n",
    "How exactly does our data look like, anyway?"
   ]
  },
  {
   "cell_type": "code",
   "execution_count": 3,
   "metadata": {},
   "outputs": [
    {
     "data": {
      "image/png": "[encoded data removed]",
      "text/plain": [
       "<Figure size 432x288 with 1 Axes>"
      ]
     },
     "metadata": {
      "needs_background": "light"
     },
     "output_type": "display_data"
    }
   ],
   "source": [
    "plt.imshow(np.squeeze(train_images[0]))\n",
    "plt.show()"
   ]
  },
  {
   "cell_type": "code",
   "execution_count": 4,
   "metadata": {},
   "outputs": [
    {
     "name": "stdout",
     "output_type": "stream",
     "text": [
      "5\n"
     ]
    }
   ],
   "source": [
    "print(train_labels[0])"
   ]
  },
  {
   "cell_type": "code",
   "execution_count": 5,
   "metadata": {},
   "outputs": [
    {
     "name": "stdout",
     "output_type": "stream",
     "text": [
      "(60000, 28, 28, 1)\n",
      "(60000,)\n"
     ]
    }
   ],
   "source": [
    "print(train_images.shape)\n",
    "print(train_labels.shape)"
   ]
  },
  {
   "cell_type": "markdown",
   "metadata": {},
   "source": [
    "# Placeholders and Sessions\n",
    "Calling sess=tf.Session() automatically tells our program to put every operation, by default, in this \"session\" object. Don't worry about it for now.\n",
    "\n",
    "A placeholder is a variable that you intend in giving a value later. For us, this will be our pictures, and our labels. We will also need to define the shape of this variable, i.e. the matrix shape of the variable. \n",
    "None represents a part of the variable with a shape which may be changed.\n",
    "\n",
    "Pictures like these tend to be 4-dimensional input (a list of 3-dimensional inputs).\n",
    "\n",
    "The first is batch size, how many images you have.\n",
    "The second and third are x and y dimensions.\n",
    "The fourth is the number of channels (in this case, 1: greyscale)"
   ]
  },
  {
   "cell_type": "code",
   "execution_count": 6,
   "metadata": {},
   "outputs": [],
   "source": [
    "sess = tf.Session()\n",
    "features = tf.placeholder(tf.float32, [None,28,28,1])\n",
    "labels = tf.placeholder(tf.int32, [None])"
   ]
  },
  {
   "cell_type": "markdown",
   "metadata": {},
   "source": [
    "# One-Hot Vectors\n",
    "train_labels[0] == 5. That's the number we need, right?\n",
    "\n",
    "Not really. Is incorrectly guessing that this number was 6 any different from incorrectly guessing that it was 1, when we're trying to classify it from handwriting? Not really. \n",
    "\n",
    "So, we need a way to show that each wrong answer is the same.\n",
    "Enter the one-hot vector. \n",
    "[0,0,0,0,1,0,0,0,0,0]\n",
    "\n",
    "This is saying that the probability that the number represented by the 5th axis here, is 1. This turns out to be much better in being able to classify it.\n"
   ]
  },
  {
   "cell_type": "code",
   "execution_count": 7,
   "metadata": {},
   "outputs": [],
   "source": [
    "labels_one_hot = tf.one_hot(labels, 10)"
   ]
  },
  {
   "cell_type": "markdown",
   "metadata": {},
   "source": [
    "# Convolutional Neural Network\n",
    "It's basically magic that gives you the answer. Akil probably talked about it earlier.\n",
    "It consists of:\n",
    "Convolutional Layers \n",
    "- Filters: an integer. It literally applies some sort of filter.\n",
    "- Kernel Size: a list of integers for every dimension. Tells the network to look for features around this size. \n",
    "- Activation Function: allows our neural net to learn nonlinearities.\n",
    "\n",
    "Max Pooling \n",
    "- Pool Size \n",
    "- Stride\n",
    "A fully connected layer at the end which gives you your final answer.\n",
    "\n",
    "Here's a 4 hidden layer one. For each layer, you put the input as the previous layer (i.e. your first layer should be connected to inputs, then a max pooling to first, then second layer to max pooling of first layer, etc.)\n",
    "\n",
    "Generally, more layers get better performance (up to a point!). You can add more layers, play with filters and kernel sizes and strides, whatever."
   ]
  },
  {
   "cell_type": "code",
   "execution_count": 8,
   "metadata": {},
   "outputs": [],
   "source": [
    "L0 = tf.layers.conv2d(inputs=features,filters =32, kernel_size = [3,3],padding = \"same\",activation = tf.nn.relu)\n",
    "MP0 = tf.layers.max_pooling2d(inputs = L0, pool_size = [2,2],strides=1)\n",
    "L1 = tf.layers.conv2d(inputs=MP0,filters =32, kernel_size = [3,3],padding = \"same\",activation = tf.nn.relu)\n",
    "MP1 = tf.layers.max_pooling2d(inputs = L1, pool_size = [2,2],strides=1)\n",
    "L2 = tf.layers.conv2d(inputs=MP1,filters =32, kernel_size = [3,3],padding = \"same\",activation = tf.nn.relu)\n",
    "MP2 = tf.layers.max_pooling2d(inputs = L2, pool_size = [2,2],strides=1)\n",
    "L3 = tf.layers.conv2d(inputs=MP2,filters =64, kernel_size = [3,3],padding = \"same\",activation = tf.nn.relu)\n",
    "MP3 = tf.layers.max_pooling2d(inputs = L3, pool_size = [2,2],strides=2)\n",
    "L4 = tf.layers.conv2d(inputs=MP3,filters =64, kernel_size = [3,3],padding = \"same\",activation = tf.nn.relu)\n",
    "MP4 = tf.layers.max_pooling2d(inputs = L4, pool_size = [2,2],strides=2)"
   ]
  },
  {
   "cell_type": "markdown",
   "metadata": {},
   "source": [
    "# The Dense Layer(s)\n",
    "First, we need to flatten our inputs. The dense layer doesn't take 4 dimensional input, it takes 2 dimensional input (batch_size * something else).\n",
    "\n",
    "To find the second parameter for flattening, we just need how many output nodes are in the last max pooling layer. Print out its shape and multiply them together.\n",
    "\n",
    "The final layer will have the softmax activation function.\n",
    "The outputs to each final node will be some number which describes how much the network thinks the output corresponding to the node is correct. \n",
    "\n",
    "You could take the maximum output across nodes to predict an answer, but this would be non-differentiable. So we take the SOFTmax, which gives us an answer which we can use to learn. Softmax also scales all outputs so that the total probability adds to 1, which is useful."
   ]
  },
  {
   "cell_type": "code",
   "execution_count": 9,
   "metadata": {},
   "outputs": [
    {
     "name": "stdout",
     "output_type": "stream",
     "text": [
      "(?, 6, 6, 64)\n"
     ]
    }
   ],
   "source": [
    "print(MP4.shape)"
   ]
  },
  {
   "cell_type": "code",
   "execution_count": 10,
   "metadata": {},
   "outputs": [],
   "source": [
    "flattened = tf.reshape(MP4, [-1,6*6*64])\n",
    "D1 = tf.layers.dense(inputs=flattened,units=128,activation = tf.nn.relu)\n",
    "output = tf.layers.dense(inputs = D1, units = 10, activation = tf.nn.softmax)\n"
   ]
  },
  {
   "cell_type": "markdown",
   "metadata": {},
   "source": [
    "# Loss\n",
    "There is a function called softmax cross entropy which works with one-hot labels. It's mathemagical, and you should use it for almost, if not all, your classification problems.\n"
   ]
  },
  {
   "cell_type": "code",
   "execution_count": 11,
   "metadata": {},
   "outputs": [],
   "source": [
    "loss = tf.losses.softmax_cross_entropy(labels_one_hot, output)"
   ]
  },
  {
   "cell_type": "markdown",
   "metadata": {},
   "source": [
    "# Optimizer\n",
    "Calculus? That sounds hard! We don't need that in our life, let tensorflow do it for us. This function will automatically optimize all our variables to give us the best answer.\n",
    "\n",
    "The parameter passed to optimizer here is learning rate. This determines how fast to learn. Bigger learning rates train more quickly, but might be unstable and not converge accurately. Smaller learning rates might take forever and get stuck in local optima. No one knows what the best one is. Play around and pick the best!\n",
    "\n",
    "But, AdamOptimizer here makes picking one a bit of an easier task. So, I'll use this optimizer. There's quite a few."
   ]
  },
  {
   "cell_type": "code",
   "execution_count": 12,
   "metadata": {},
   "outputs": [],
   "source": [
    "opt = tf.train.AdamOptimizer(1e-4).minimize(loss)"
   ]
  },
  {
   "cell_type": "markdown",
   "metadata": {},
   "source": [
    "# Accuracy\n",
    "Just so that we have an understanding of what is going on, we find how accurate our model is. (note this is not the best metric in every case)\n",
    "\n",
    "tf.cast changes object types. It's necessary for two types to be the same for tf.math.equal to work (finds if each element in a matrix is the same on an element wise basis).\n",
    "\n",
    "Casting correct to int32 casts all the True to 1 and all False to 0. Then, we can just add all the True and divide by how many samples we had."
   ]
  },
  {
   "cell_type": "code",
   "execution_count": 13,
   "metadata": {},
   "outputs": [],
   "source": [
    "prediction = tf.cast(tf.argmax(output, axis = 1),tf.int32)\n",
    "correct = tf.cast(tf.math.equal(labels, prediction),tf.int32)\n",
    "accuracy = tf.reduce_sum(correct)/tf.shape(features)[0]"
   ]
  },
  {
   "cell_type": "markdown",
   "metadata": {},
   "source": [
    "global_variables_initializer initializes all the model parameters we were defining. Saver is to save the model.\n",
    "\n",
    "While we're at it, sess.run(op, feed_dict = {...all placeholders})\n",
    "tells Tensorflow to run the operation defined given all the placeholders. It won't do it until you ask it using this function. "
   ]
  },
  {
   "cell_type": "code",
   "execution_count": 14,
   "metadata": {},
   "outputs": [],
   "source": [
    "saver = tf.train.Saver()\n",
    "sess.run(tf.global_variables_initializer())\n"
   ]
  },
  {
   "cell_type": "markdown",
   "metadata": {},
   "source": [
    "# Sampling\n",
    "We should take a certain number of samples at a time, called a batch, and run them all at once. It's not a good idea to do one at a time, since it wastes Tensorflow's matrix math optimizations, or all at once, since it's easier to get stuck on local optima. Use whatever random sampling method you deem appropriate."
   ]
  },
  {
   "cell_type": "code",
   "execution_count": 15,
   "metadata": {},
   "outputs": [],
   "source": [
    "sample_nums = list(range(train_images.shape[0]))"
   ]
  },
  {
   "cell_type": "markdown",
   "metadata": {},
   "source": [
    "# Can we finally train the model?\n",
    "Yes.\n",
    "You use sess.run(opt) to run the optimizer.\n",
    "You can also feed a list of variables to have Tensorflow spit them all out.\n",
    "We'll also be periodically printing losses and saving."
   ]
  },
  {
   "cell_type": "code",
   "execution_count": 16,
   "metadata": {},
   "outputs": [
    {
     "name": "stdout",
     "output_type": "stream",
     "text": [
      "Train loss 2.4063997\n",
      "Train acc 0.0546875\n",
      "Test loss 2.3137765\n",
      "Test acc 0.1375\n",
      "Train loss 1.9640471\n",
      "Train acc 0.4921875\n",
      "Train loss 1.994524\n",
      "Train acc 0.4609375\n",
      "Train loss 2.005371\n",
      "Train acc 0.453125\n",
      "Train loss 1.957352\n",
      "Train acc 0.484375\n",
      "Train loss 1.8961701\n",
      "Train acc 0.5625\n",
      "Train loss 2.015327\n",
      "Train acc 0.4375\n",
      "Train loss 1.856399\n",
      "Train acc 0.59375\n",
      "Train loss 1.7878623\n",
      "Train acc 0.671875\n",
      "Train loss 1.689649\n",
      "Train acc 0.765625\n",
      "Train loss 1.7141519\n",
      "Train acc 0.75\n",
      "Test loss 1.6622\n",
      "Test acc 0.7973\n",
      "Train loss 1.7004111\n",
      "Train acc 0.7578125\n",
      "Train loss 1.6451952\n",
      "Train acc 0.8125\n",
      "Train loss 1.6440145\n",
      "Train acc 0.8125\n",
      "Train loss 1.648711\n",
      "Train acc 0.8046875\n",
      "Train loss 1.653017\n",
      "Train acc 0.8046875\n",
      "Train loss 1.5661796\n",
      "Train acc 0.8984375\n",
      "Train loss 1.5124452\n",
      "Train acc 0.953125\n",
      "Train loss 1.5095018\n",
      "Train acc 0.953125\n",
      "Train loss 1.5383303\n",
      "Train acc 0.921875\n",
      "Train loss 1.5513408\n",
      "Train acc 0.90625\n",
      "Test loss 1.5629606\n",
      "Test acc 0.8973\n",
      "Train loss 1.5335971\n",
      "Train acc 0.9296875\n",
      "Train loss 1.5765204\n",
      "Train acc 0.8828125\n",
      "Train loss 1.5534991\n",
      "Train acc 0.90625\n",
      "Train loss 1.5456691\n",
      "Train acc 0.9140625\n",
      "Train loss 1.5684781\n",
      "Train acc 0.890625\n",
      "Train loss 1.5621691\n",
      "Train acc 0.8984375\n",
      "Train loss 1.5348727\n",
      "Train acc 0.9296875\n",
      "Train loss 1.52392\n",
      "Train acc 0.9375\n",
      "Train loss 1.5464841\n",
      "Train acc 0.9140625\n",
      "Train loss 1.538925\n",
      "Train acc 0.921875\n",
      "Test loss 1.5599366\n",
      "Test acc 0.9007\n",
      "Train loss 1.5620866\n",
      "Train acc 0.8984375\n",
      "Train loss 1.6000894\n",
      "Train acc 0.859375\n",
      "Train loss 1.5536069\n",
      "Train acc 0.90625\n",
      "Train loss 1.5209391\n",
      "Train acc 0.9375\n",
      "Train loss 1.5554225\n",
      "Train acc 0.90625\n",
      "Train loss 1.494869\n",
      "Train acc 0.96875\n",
      "Train loss 1.5972375\n",
      "Train acc 0.859375\n",
      "Train loss 1.5757169\n",
      "Train acc 0.8828125\n",
      "Train loss 1.5172257\n",
      "Train acc 0.9453125\n",
      "Train loss 1.5764908\n",
      "Train acc 0.8828125\n",
      "Test loss 1.5558081\n",
      "Test acc 0.9037\n",
      "Train loss 1.6132746\n",
      "Train acc 0.84375\n",
      "Train loss 1.5524662\n",
      "Train acc 0.90625\n",
      "Train loss 1.5144076\n",
      "Train acc 0.9453125\n",
      "Train loss 1.560312\n",
      "Train acc 0.8984375\n",
      "Train loss 1.4753158\n",
      "Train acc 0.9765625\n",
      "Train loss 1.4809833\n",
      "Train acc 0.984375\n",
      "Train loss 1.4767671\n",
      "Train acc 0.984375\n",
      "Train loss 1.4696679\n",
      "Train acc 0.984375\n",
      "Train loss 1.4718552\n",
      "Train acc 0.9921875\n"
     ]
    }
   ],
   "source": [
    "train_accs = []\n",
    "for iteration in range(5000):\n",
    "    ns = sample(sample_nums, 128)\n",
    "\n",
    "    sample_features = np.take(train_images, ns,axis = 0)\n",
    "    sample_labels = np.take(train_labels,ns,axis = 0)\n",
    "\n",
    "    train_acc, train_loss,  __ = sess.run([accuracy, loss,opt], feed_dict = {features: sample_features, labels: sample_labels})\n",
    "\n",
    "\n",
    "    if iteration % 100 == 0:\n",
    "        print(\"Train loss \" + str(train_loss))\n",
    "        print(\"Train acc \" + str(train_acc))\n",
    "        train_accs.append(train_acc)\n",
    "\n",
    "    if iteration % 1000 == 0:\n",
    "        test_acc, test_loss = sess.run([accuracy,loss], feed_dict = {features: test_images, labels: test_labels})\n",
    "        print(\"Test loss \"+ str(test_loss))\n",
    "        print(\"Test acc \"+ str(test_acc))\n",
    "\n",
    "        saver.save(sess, \"models/mnist.ckpt\")"
   ]
  },
  {
   "cell_type": "markdown",
   "metadata": {},
   "source": [
    "# Let's Graph Our Training Curve!"
   ]
  },
  {
   "cell_type": "code",
   "execution_count": 17,
   "metadata": {},
   "outputs": [
    {
     "data": {
      "image/png": "[encoded data removed]",
      "text/plain": [
       "<Figure size 432x288 with 1 Axes>"
      ]
     },
     "metadata": {
      "needs_background": "light"
     },
     "output_type": "display_data"
    }
   ],
   "source": [
    "plt.plot(train_accs)\n",
    "plt.show()"
   ]
  },
  {
   "cell_type": "code",
   "execution_count": 18,
   "metadata": {},
   "outputs": [
    {
     "name": "stdout",
     "output_type": "stream",
     "text": [
      "Test loss 1.4722574\n",
      "Test acc 0.9892\n"
     ]
    }
   ],
   "source": [
    "test_acc, test_loss = sess.run([accuracy,loss], feed_dict = {features: test_images, labels: test_labels})\n",
    "print(\"Test loss \"+ str(test_loss))\n",
    "print(\"Test acc \"+ str(test_acc))"
   ]
  },
  {
   "cell_type": "markdown",
   "metadata": {},
   "source": [
    "Not bad! Let's just see if our predictions make sense."
   ]
  },
  {
   "cell_type": "code",
   "execution_count": 23,
   "metadata": {},
   "outputs": [
    {
     "data": {
      "image/png": "[encoded data removed]",
      "text/plain": [
       "<Figure size 432x288 with 1 Axes>"
      ]
     },
     "metadata": {
      "needs_background": "light"
     },
     "output_type": "display_data"
    },
    {
     "name": "stdout",
     "output_type": "stream",
     "text": [
      "Class probs: [[5.8475114e-11 1.0000000e+00 3.1670699e-12 1.9041413e-12 1.8437048e-10\n",
      "  2.1827485e-14 5.4176184e-13 1.8531036e-14 1.0464232e-11 1.4742148e-13]]\n",
      "Numerical output: [1]\n"
     ]
    },
    {
     "data": {
      "image/png": "[encoded data removed]",
      "text/plain": [
       "<Figure size 432x288 with 1 Axes>"
      ]
     },
     "metadata": {
      "needs_background": "light"
     },
     "output_type": "display_data"
    },
    {
     "name": "stdout",
     "output_type": "stream",
     "text": [
      "Class probs: [[2.4186117e-23 7.1137678e-23 1.5125427e-14 1.0000000e+00 6.9154446e-31\n",
      "  7.4861979e-16 7.4537485e-29 2.8843563e-18 7.7484986e-18 1.8492679e-19]]\n",
      "Numerical output: [3]\n"
     ]
    },
    {
     "data": {
      "image/png": "[encoded data removed]",
      "text/plain": [
       "<Figure size 432x288 with 1 Axes>"
      ]
     },
     "metadata": {
      "needs_background": "light"
     },
     "output_type": "display_data"
    },
    {
     "name": "stdout",
     "output_type": "stream",
     "text": [
      "Class probs: [[1.5807175e-21 7.4513968e-27 1.3869993e-19 3.2889496e-20 2.1816299e-28\n",
      "  1.4614277e-22 1.5008244e-28 1.0154104e-23 1.0000000e+00 5.1603346e-25]]\n",
      "Numerical output: [8]\n"
     ]
    },
    {
     "data": {
      "image/png": "[encoded data removed]",
      "text/plain": [
       "<Figure size 432x288 with 1 Axes>"
      ]
     },
     "metadata": {
      "needs_background": "light"
     },
     "output_type": "display_data"
    },
    {
     "name": "stdout",
     "output_type": "stream",
     "text": [
      "Class probs: [[2.1845502e-23 2.2280508e-10 3.0526945e-10 2.4900775e-18 2.8536473e-10\n",
      "  3.9132569e-12 2.0629172e-15 3.6857211e-15 1.0000000e+00 3.1341926e-16]]\n",
      "Numerical output: [8]\n"
     ]
    },
    {
     "data": {
      "image/png": "[encoded data removed]",
      "text/plain": [
       "<Figure size 432x288 with 1 Axes>"
      ]
     },
     "metadata": {
      "needs_background": "light"
     },
     "output_type": "display_data"
    },
    {
     "name": "stdout",
     "output_type": "stream",
     "text": [
      "Class probs: [[6.4786306e-19 5.4458268e-25 1.0000000e+00 1.5903185e-18 6.7313990e-32\n",
      "  1.4363224e-25 5.5996383e-30 7.1222068e-32 4.1445369e-15 3.5675298e-30]]\n",
      "Numerical output: [2]\n"
     ]
    },
    {
     "data": {
      "image/png": "[encoded data removed]",
      "text/plain": [
       "<Figure size 432x288 with 1 Axes>"
      ]
     },
     "metadata": {
      "needs_background": "light"
     },
     "output_type": "display_data"
    },
    {
     "name": "stdout",
     "output_type": "stream",
     "text": [
      "Class probs: [[2.6431965e-22 8.2215824e-21 3.8258351e-17 7.8264347e-14 2.3635155e-21\n",
      "  2.0828009e-18 8.7607849e-20 1.5322593e-21 1.0000000e+00 3.1473590e-24]]\n",
      "Numerical output: [8]\n"
     ]
    },
    {
     "data": {
      "image/png": "[encoded data removed]",
      "text/plain": [
       "<Figure size 432x288 with 1 Axes>"
      ]
     },
     "metadata": {
      "needs_background": "light"
     },
     "output_type": "display_data"
    },
    {
     "name": "stdout",
     "output_type": "stream",
     "text": [
      "Class probs: [[3.3081825e-24 4.4731331e-22 1.4479654e-22 1.7828083e-15 3.0048017e-16\n",
      "  2.9623624e-15 1.9680759e-28 6.8870773e-20 1.4214904e-18 1.0000000e+00]]\n",
      "Numerical output: [9]\n"
     ]
    },
    {
     "data": {
      "image/png": "[encoded data removed]",
      "text/plain": [
       "<Figure size 432x288 with 1 Axes>"
      ]
     },
     "metadata": {
      "needs_background": "light"
     },
     "output_type": "display_data"
    },
    {
     "name": "stdout",
     "output_type": "stream",
     "text": [
      "Class probs: [[2.7517799e-17 5.3544032e-19 2.7513258e-19 7.5402804e-16 5.4624300e-10\n",
      "  2.5814934e-15 4.6545909e-21 2.3764915e-19 4.3498310e-18 1.0000000e+00]]\n",
      "Numerical output: [9]\n"
     ]
    },
    {
     "data": {
      "image/png": "[encoded data removed]",
      "text/plain": [
       "<Figure size 432x288 with 1 Axes>"
      ]
     },
     "metadata": {
      "needs_background": "light"
     },
     "output_type": "display_data"
    },
    {
     "name": "stdout",
     "output_type": "stream",
     "text": [
      "Class probs: [[2.0764387e-25 1.2047650e-12 8.3037527e-21 4.4134913e-20 9.9999988e-01\n",
      "  9.1273636e-15 5.3665434e-21 4.6658605e-10 3.3549992e-14 6.8733137e-08]]\n",
      "Numerical output: [4]\n"
     ]
    },
    {
     "data": {
      "image/png": "[encoded data removed]",
      "text/plain": [
       "<Figure size 432x288 with 1 Axes>"
      ]
     },
     "metadata": {
      "needs_background": "light"
     },
     "output_type": "display_data"
    },
    {
     "name": "stdout",
     "output_type": "stream",
     "text": [
      "Class probs: [[1.0470903e-18 6.0010545e-22 3.2695244e-19 1.9034884e-15 4.6467635e-15\n",
      "  2.0916948e-14 4.0130399e-23 2.0284781e-17 4.6829537e-17 1.0000000e+00]]\n",
      "Numerical output: [9]\n"
     ]
    }
   ],
   "source": [
    "from random import randrange\n",
    "for x in range(10):\n",
    "    n = randrange(0,10000)\n",
    "    plt.imshow(np.squeeze(test_images[n]))\n",
    "    plt.show()\n",
    "\n",
    "    out, pred = sess.run([output,prediction], feed_dict = {features: [test_images[n]]})\n",
    "    print(\"Class probs: \" + str(out))\n",
    "    print(\"Numerical output: \" + str(pred))"
   ]
  },
  {
   "cell_type": "markdown",
   "metadata": {},
   "source": [
    "Pretty solid! We notice that the model thinks of the correct answer, with near 100% confidence.\n",
    "Why isn't the test accuracy 100% then? There are probably ambiguous images in MNIST. Or, the model isn't trained well enough. But it seems pretty good!"
   ]
  }
 ],
 "metadata": {
  "kernelspec": {
   "display_name": "Python 3",
   "language": "python",
   "name": "python3"
  },
  "language_info": {
   "codemirror_mode": {
    "name": "ipython",
    "version": 3
   },
   "file_extension": ".py",
   "mimetype": "text/x-python",
   "name": "python",
   "nbconvert_exporter": "python",
   "pygments_lexer": "ipython3",
   "version": "3.6.6"
  }
 },
 "nbformat": 4,
 "nbformat_minor": 2
}
