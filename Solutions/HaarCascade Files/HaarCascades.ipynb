{
 "cells": [
  {
   "cell_type": "markdown",
   "metadata": {},
   "source": [
    "## Face Detection Tutorial - Haar Cascaades"
   ]
  },
  {
   "cell_type": "code",
   "execution_count": null,
   "metadata": {},
   "outputs": [],
   "source": [
    "# only opencv library needed is along with haar cascade xmls"
   ]
  },
  {
   "cell_type": "code",
   "execution_count": null,
   "metadata": {},
   "outputs": [],
   "source": [
    "import cv2\n",
    "import time"
   ]
  },
  {
   "cell_type": "code",
   "execution_count": null,
   "metadata": {},
   "outputs": [],
   "source": []
  },
  {
   "cell_type": "code",
   "execution_count": null,
   "metadata": {},
   "outputs": [],
   "source": [
    "# setup parameters for drawing onto the opencv GUI\n",
    "# font style\n",
    "font = cv2.FONT_HERSHEY_SIMPLEX\n",
    "fScale = 1\n",
    "fColorG = (86, 239, 124)\n",
    "fColorB = (98, 98, 249)\n",
    "\n",
    "# position parameters\n",
    "posF = (20,50)\n",
    "posS = (20,80)\n",
    "lineType = 2\n"
   ]
  },
  {
   "cell_type": "code",
   "execution_count": null,
   "metadata": {},
   "outputs": [],
   "source": []
  },
  {
   "cell_type": "code",
   "execution_count": null,
   "metadata": {},
   "outputs": [],
   "source": [
    "# Import the haar cascades\n",
    "face_cascade = cv2.CascadeClassifier('haarcascade_frontalface_default.xml')\n",
    "smile_cascade = cv2.CascadeClassifier('haarcascade_smile.xml')\n",
    "eye_cascade = cv2.CascadeClassifier('haarcascade_eye.xml')"
   ]
  },
  {
   "cell_type": "code",
   "execution_count": null,
   "metadata": {},
   "outputs": [],
   "source": []
  },
  {
   "cell_type": "code",
   "execution_count": null,
   "metadata": {},
   "outputs": [],
   "source": [
    "# Define main method to be used for detecting the various cascades in an image\n",
    "\n",
    "def detect_faces(gray, img):\n",
    "    '''\n",
    "    Script to label a colored image\n",
    "    '''\n",
    "    \n",
    "    # Creates an array of the faces in the gray image\n",
    "    faces = face_cascade.detectMultiScale(gray,1.3,5)\n",
    "    \n",
    "    if len(faces) == 0:\n",
    "        cv2.putText(img, 'NO FACES', posF, font, fScale, fColorB, lineType)\n",
    "    else:\n",
    "        cv2.putText(img,'FACES FOUND', posF, font, fScale, fColorG, lineType)\n",
    "    \n",
    "    # unpack the 4-tuple from each face in the faces array\n",
    "    for x, y, width, height in faces:\n",
    "        \n",
    "        # Create recangles for each faces\n",
    "        cv2.rectangle(img, (x,y), (x+width, y+height), (237, 73, 73), 3)\n",
    "        \n",
    "    return img\n"
   ]
  },
  {
   "cell_type": "code",
   "execution_count": null,
   "metadata": {},
   "outputs": [],
   "source": [
    "# Use the webcam using 0  (or external source using 1)\n",
    "video_cap = cv2.VideoCapture(0)\n",
    "cur = time.time()"
   ]
  },
  {
   "cell_type": "code",
   "execution_count": null,
   "metadata": {},
   "outputs": [],
   "source": [
    "while (time.time() - cur) < 60:\n",
    "    _ , frame = video_cap.read()\n",
    "    gray = cv2.cvtColor(frame,cv2.COLOR_BGR2GRAY)\n",
    "    canvas = detect_faces(gray,frame)\n",
    "    cv2.imshow('Video', canvas)\n",
    "    \n",
    "    if cv2.waitKey(1) & 0xFF == ord('a'):\n",
    "        break"
   ]
  },
  {
   "cell_type": "code",
   "execution_count": null,
   "metadata": {},
   "outputs": [],
   "source": [
    "video_cap.release()\n",
    "cv2.destroAllWindows()"
   ]
  },
  {
   "cell_type": "code",
   "execution_count": null,
   "metadata": {},
   "outputs": [],
   "source": []
  },
  {
   "cell_type": "code",
   "execution_count": null,
   "metadata": {},
   "outputs": [],
   "source": [
    "# Second Version with eye and mouth detection as well\n",
    "def detect_faces_and_smiles(gray, img):\n",
    "    '''\n",
    "    Script to label a colored image\n",
    "    '''\n",
    "    \n",
    "    faces = face_cascade.detectMultiScale(gray,1.3,5)\n",
    "    \n",
    "    if len(faces) == 0:\n",
    "        cv2.putText(img,'NO FACES', posF, font, fScale,fColorB,lineType)\n",
    "    else:\n",
    "        cv2.putText(img,'FACES FOUND', posF, font, fScale,fColorG,lineType)\n",
    "    for x, y, width, height in faces:\n",
    "        # create rectangle for the faces\n",
    "        cv2.rectangle(img, (x,y), (x+width, y+height), (237, 73, 73), 3)\n",
    "        \n",
    "        # for each face detected, look for a smile\n",
    "        roi_g = gray[x:x+width, y:y+height]\n",
    "        roi_c = img[x:x+width, y:y+height]\n",
    "        smile = smile_cascade.detectMultiScale(roi_g,1.4,20)\n",
    "        eyes = eye_cascade.detectMultiScale(roi_g,1.1,3)\n",
    "        \n",
    "        if len(smile):\n",
    "            smile = [smile[0]] # Truncates array if multiple smiles detected\n",
    "            cv2.putText(img,'SMILE DETECTED', posS, font, fScale/2,fColorG,lineType)\n",
    "        else:\n",
    "            cv2.putText(img,'NO SMILE DETECTED', posS, font, fScale/2,fColorB,lineType)\n",
    "            \n",
    "        for ex, ey, ewidth, eheight in eyes:\n",
    "            cv2.rectangle(roi_c, (ex, ey), (ex+ewidth, ey+eheight),(92, 94, 234), 2)\n",
    "\n",
    "        for sx, sy, swidth, sheight in smile:\n",
    "            cv2.rectangle(roi_c, (sx,sy), (sx+swidth, sy+sheight), (49, 204, 219), 2)\n",
    "    \n",
    "    return img\n",
    "\n"
   ]
  },
  {
   "cell_type": "code",
   "execution_count": null,
   "metadata": {},
   "outputs": [],
   "source": [
    "\n"
   ]
  }
 ],
 "metadata": {
  "kernelspec": {
   "display_name": "Python 3",
   "language": "python",
   "name": "python3"
  },
  "language_info": {
   "codemirror_mode": {
    "name": "ipython",
    "version": 3
   },
   "file_extension": ".py",
   "mimetype": "text/x-python",
   "name": "python",
   "nbconvert_exporter": "python",
   "pygments_lexer": "ipython3",
   "version": "3.6.5"
  }
 },
 "nbformat": 4,
 "nbformat_minor": 2
}
